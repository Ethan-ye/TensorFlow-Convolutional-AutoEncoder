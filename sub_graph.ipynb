{
 "cells": [
  {
   "cell_type": "code",
   "execution_count": 1,
   "metadata": {
    "ExecuteTime": {
     "end_time": "2019-12-05T10:17:49.007359Z",
     "start_time": "2019-12-05T10:17:44.816561Z"
    },
    "scrolled": true
   },
   "outputs": [
    {
     "name": "stdout",
     "output_type": "stream",
     "text": [
      "WARNING:tensorflow:From D:\\MyApp\\Anaconda3\\envs\\tf1\\lib\\site-packages\\tensorflow\\python\\framework\\op_def_library.py:263: colocate_with (from tensorflow.python.framework.ops) is deprecated and will be removed in a future version.\n",
      "Instructions for updating:\n",
      "Colocations handled automatically by placer.\n",
      "Const\n",
      "v1\n",
      "v1/Assign\n",
      "v1/read\n",
      "Const_1\n",
      "v2\n",
      "v2/Assign\n",
      "v2/read\n",
      "add_res\n",
      "add_res1\n",
      "show graph\n",
      "\n",
      "WARNING:tensorflow:From <ipython-input-1-7238617e1b06>:29: convert_variables_to_constants (from tensorflow.python.framework.graph_util_impl) is deprecated and will be removed in a future version.\n",
      "Instructions for updating:\n",
      "Use tf.compat.v1.graph_util.convert_variables_to_constants\n",
      "WARNING:tensorflow:From D:\\MyApp\\Anaconda3\\envs\\tf1\\lib\\site-packages\\tensorflow\\python\\framework\\graph_util_impl.py:245: extract_sub_graph (from tensorflow.python.framework.graph_util_impl) is deprecated and will be removed in a future version.\n",
      "Instructions for updating:\n",
      "Use tf.compat.v1.graph_util.extract_sub_graph\n",
      "INFO:tensorflow:Froze 2 variables.\n",
      "INFO:tensorflow:Converted 2 variables to const ops.\n",
      "v1\n",
      "v1/read\n",
      "v2\n",
      "v2/read\n",
      "add_res\n",
      "add_res1\n",
      "graph_def convert\n",
      "\n"
     ]
    }
   ],
   "source": [
    "# TensorFlow 保存和导入计算图中的部分节点\n",
    "#保存计算图中的节点\n",
    "import numpy as np\n",
    "import tensorflow as tf\n",
    "from tensorflow.compat.v1 import graph_util\n",
    "from tensorflow.python.platform import gfile\n",
    "\n",
    "#建立测试用图\n",
    "tf.reset_default_graph()\n",
    "\n",
    "v1 = tf.Variable(tf.constant(1.0, shape=[1]), name='v1')\n",
    "v2 = tf.Variable(tf.constant(2.0, shape=[1]), name='v2')\n",
    "\n",
    "res = tf.add(v1, v2, name='add_res')\n",
    "res2 = tf.add(res, v2, name='add_res1')\n",
    "\n",
    "graph_def = tf.get_default_graph().as_graph_def()\n",
    "for node in graph_def.node:\n",
    "    print(node.name)\n",
    "print('show graph\\n')\n",
    "\n",
    "#保存图\n",
    "with tf.Session() as sess:\n",
    "    sess.run(tf.global_variables_initializer())\n",
    "    #获取到达add_res1的图    \n",
    "    #convert_variables_to_constants：通过这个函数可以将计算图中的变量及其取值通过常量保存。\n",
    "    #add_res1 没有“:0”，表示这是计算节点（operator），而“add_res:0” 表示节点计算后的输出张量。\n",
    "    #这里的节点存在依赖关系，会自动查找所依赖的节点，并将相关的节点一起保存\n",
    "    output_graph_def = graph_util.convert_variables_to_constants(sess, graph_def, ['add_res1'])\n",
    "    \n",
    "for node in output_graph_def.node:\n",
    "    print(node.name)\n",
    "print('graph_def convert\\n')\n",
    "    \n",
    "#文件句柄，保存文件。\n",
    "with gfile.GFile('save/combined_model.pb', 'wb') as f:\n",
    "    f.write(output_graph_def.SerializeToString())\n",
    "#文件句柄，保存文件。\n",
    "# tf.train.write_graph(graph_def, export_dir, 'expert-graph.pb', as_text=False)"
   ]
  },
  {
   "cell_type": "code",
   "execution_count": 2,
   "metadata": {
    "ExecuteTime": {
     "end_time": "2019-12-05T10:17:49.097125Z",
     "start_time": "2019-12-05T10:17:49.014340Z"
    }
   },
   "outputs": [
    {
     "name": "stdout",
     "output_type": "stream",
     "text": [
      "import/v1\n",
      "import/v1/read\n",
      "import/v2\n",
      "import/v2/read\n",
      "import/add_res\n",
      "import/add_res1\n",
      "import_1/v1\n",
      "import_1/v1/read\n",
      "import_1/v2\n",
      "import_1/v2/read\n",
      "import_1/add_res\n",
      "import_1/add_res1\n",
      "show graph import\n",
      "\n",
      "[array([1.], dtype=float32)]\n",
      "[array([5.], dtype=float32)]\n"
     ]
    }
   ],
   "source": [
    "#清空当前图\n",
    "tf.reset_default_graph()\n",
    "\n",
    "#导入已保存的节点\n",
    "model_filename = 'save/combined_model.pb'\n",
    "with gfile.GFile(model_filename, 'rb') as f:\n",
    "    graph_def = tf.GraphDef()\n",
    "    graph_def.ParseFromString(f.read())\n",
    "    \n",
    "#这里导入了之前保存的节点，并且“:0”表示该节点的第一次输出的结果\n",
    "#注意，每次使用该函数，就导入一次图中的节点，故对于关联的节点，必须同时导入才能相关，否则属于不同的组\n",
    "result1 = tf.import_graph_def(graph_def, return_elements=['v1:0']) #导入节点\n",
    "result2 = tf.import_graph_def(graph_def, return_elements=['add_res1:0'])#重复导入节点，导致冗余\n",
    "graph_def = tf.get_default_graph().as_graph_def()\n",
    "for node in graph_def.node:\n",
    "    print(node.name)\n",
    "print('show graph import\\n')\n",
    "\n",
    "with tf.Session() as sess:\n",
    "    print(sess.run(result1))\n",
    "    print(sess.run(result2))"
   ]
  },
  {
   "cell_type": "code",
   "execution_count": 3,
   "metadata": {
    "ExecuteTime": {
     "end_time": "2019-12-05T10:17:49.139026Z",
     "start_time": "2019-12-05T10:17:49.106097Z"
    }
   },
   "outputs": [
    {
     "name": "stdout",
     "output_type": "stream",
     "text": [
      "v1\n",
      "v1/read\n",
      "v2\n",
      "v2/read\n",
      "add_res\n",
      "add_res1\n",
      "graph_def read\n",
      "\n",
      "v1\n",
      "v1/read\n",
      "v2\n",
      "v2/read\n",
      "add_res\n",
      "add_res1\n",
      "inputs_replaced_graph_def read\n",
      "\n",
      "v2\n",
      "v2/read\n",
      "add_res\n",
      "add_res1\n",
      "output_graph_def read\n",
      "\n"
     ]
    }
   ],
   "source": [
    "#导入节点，并修改对节点进行修改\n",
    "tf.reset_default_graph()\n",
    "\n",
    "model_filename = 'save/combined_model.pb'\n",
    "with gfile.GFile(model_filename, 'rb') as f:\n",
    "    graph_def = tf.GraphDef()\n",
    "    graph_def.ParseFromString(f.read())\n",
    "\n",
    "for node in graph_def.node:\n",
    "    print(node.name)\n",
    "print('graph_def read\\n')\n",
    "\n",
    "#修改图节点\n",
    "input_node_names_list = ['v2','add_res']\n",
    "inputs_replaced_graph_def = tf.GraphDef()\n",
    "for node in graph_def.node:\n",
    "    if node.name in input_node_names_list:\n",
    "        placeholder_node = tf.NodeDef()\n",
    "        placeholder_node.op = \"Placeholder\"\n",
    "        placeholder_node.name = node.name\n",
    "        placeholder_node.attr[\"dtype\"].CopyFrom(\n",
    "            tf.AttrValue(type=tf.float32.as_datatype_enum))\n",
    "        inputs_replaced_graph_def.node.extend([placeholder_node])\n",
    "    else:\n",
    "        old_node = tf.NodeDef()\n",
    "        old_node.CopyFrom(node)\n",
    "        inputs_replaced_graph_def.node.extend([old_node])\n",
    "\n",
    "for node in inputs_replaced_graph_def.node:\n",
    "    print(node.name)\n",
    "print('inputs_replaced_graph_def read\\n')\n",
    "\n",
    "#抽取子图\n",
    "output_graph_def = graph_util.extract_sub_graph(\n",
    "        inputs_replaced_graph_def, ['add_res1'])\n",
    "\n",
    "for node in output_graph_def.node:\n",
    "    print(node.name)\n",
    "print('output_graph_def read\\n')"
   ]
  },
  {
   "cell_type": "code",
   "execution_count": 4,
   "metadata": {
    "ExecuteTime": {
     "end_time": "2019-12-05T10:17:49.150976Z",
     "start_time": "2019-12-05T10:17:49.144991Z"
    }
   },
   "outputs": [],
   "source": [
    "code1 = np.array([[5,],[4,]], dtype = np.float32)\n",
    "# code2 = np.array([5,], dtype = np.float32)\n",
    "code2 = code1"
   ]
  },
  {
   "cell_type": "code",
   "execution_count": 5,
   "metadata": {
    "ExecuteTime": {
     "end_time": "2019-12-05T10:17:49.188885Z",
     "start_time": "2019-12-05T10:17:49.159953Z"
    }
   },
   "outputs": [
    {
     "name": "stdout",
     "output_type": "stream",
     "text": [
      "import/v2\n",
      "import/v2/read\n",
      "import/add_res\n",
      "import/add_res1\n",
      "show graph\n",
      "\n",
      "Tensor(\"import/v2:0\", dtype=float32)\n",
      "Tensor(\"import/add_res:0\", dtype=float32)\n",
      "Tensor(\"import/add_res1:0\", dtype=float32)\n",
      "[[10.]\n",
      " [ 8.]]\n"
     ]
    }
   ],
   "source": [
    "# 方法一\n",
    "tf.reset_default_graph()\n",
    "\n",
    "#导入tensor和graph_def\n",
    "input_x,input_y,result = tf.import_graph_def(output_graph_def, return_elements=[\"v2:0\",\"add_res:0\",\"add_res1:0\"])\n",
    "\n",
    "graph_def = tf.get_default_graph().as_graph_def()\n",
    "for node in graph_def.node:\n",
    "    print(node.name)\n",
    "print('show graph\\n')\n",
    "\n",
    "with tf.Session() as sess:\n",
    "    print (input_x),print (input_y),print (result)\n",
    "    print(sess.run(result,feed_dict={input_x:code1,input_y:code2}))"
   ]
  },
  {
   "cell_type": "code",
   "execution_count": 6,
   "metadata": {
    "ExecuteTime": {
     "end_time": "2019-12-05T10:17:49.228767Z",
     "start_time": "2019-12-05T10:17:49.193861Z"
    }
   },
   "outputs": [
    {
     "name": "stdout",
     "output_type": "stream",
     "text": [
      "v2\n",
      "v2/read\n",
      "add_res\n",
      "add_res1\n",
      "show graph\n",
      "\n",
      "Tensor(\"v2:0\", dtype=float32)\n",
      "Tensor(\"add_res:0\", dtype=float32)\n",
      "Tensor(\"add_res1:0\", dtype=float32)\n",
      "[[10.]\n",
      " [ 8.]]\n"
     ]
    }
   ],
   "source": [
    "#方法二\n",
    "tf.reset_default_graph()\n",
    "\n",
    "tf.import_graph_def(output_graph_def, name='') \n",
    "\n",
    "graph_def = tf.get_default_graph().as_graph_def()\n",
    "for node in graph_def.node:\n",
    "    print(node.name)\n",
    "print('show graph\\n')\n",
    "\n",
    "with tf.Session() as sess:\n",
    "    input_x = sess.graph.get_tensor_by_name(\"v2:0\")\n",
    "    input_y = sess.graph.get_tensor_by_name(\"add_res:0\")\n",
    "    result = sess.graph.get_tensor_by_name(\"add_res1:0\")\n",
    "    \n",
    "    print (input_x),print (input_y),print (result)\n",
    "    print(sess.run(result,feed_dict={input_x:code1,input_y:code2}))"
   ]
  },
  {
   "cell_type": "code",
   "execution_count": 7,
   "metadata": {
    "ExecuteTime": {
     "end_time": "2019-12-05T10:17:49.265670Z",
     "start_time": "2019-12-05T10:17:49.231760Z"
    }
   },
   "outputs": [
    {
     "name": "stdout",
     "output_type": "stream",
     "text": [
      "import/v2\n",
      "import/v2/read\n",
      "import/add_res\n",
      "import/add_res1\n",
      "show graph\n",
      "\n",
      "Tensor(\"import/v2:0\", dtype=float32)\n",
      "Tensor(\"import/add_res:0\", dtype=float32)\n",
      "Tensor(\"import/add_res1:0\", dtype=float32)\n",
      "[[10.]\n",
      " [ 8.]]\n"
     ]
    }
   ],
   "source": [
    "#方法三\n",
    "tf.reset_default_graph()\n",
    "\n",
    "result, = tf.import_graph_def(output_graph_def, return_elements=[\"add_res1:0\"])#返回的是一个列表，取首元\n",
    "\n",
    "graph_def = tf.get_default_graph().as_graph_def()\n",
    "for node in graph_def.node:\n",
    "    print(node.name)\n",
    "print('show graph\\n')\n",
    "\n",
    "with tf.Session() as sess:\n",
    "    input_x = sess.graph.get_tensor_by_name(\"import/v2:0\")\n",
    "    input_y = sess.graph.get_tensor_by_name(\"import/add_res:0\")\n",
    "    \n",
    "    print (input_x),print (input_y),print (result)\n",
    "    print(sess.run(result,feed_dict={input_x:code1,input_y:code2}))"
   ]
  },
  {
   "cell_type": "code",
   "execution_count": 8,
   "metadata": {
    "ExecuteTime": {
     "end_time": "2019-12-05T10:17:49.603765Z",
     "start_time": "2019-12-05T10:17:49.282624Z"
    }
   },
   "outputs": [
    {
     "name": "stdout",
     "output_type": "stream",
     "text": [
      "# build graph and run\n",
      "WARNING:tensorflow:From D:\\MyApp\\Anaconda3\\envs\\tf1\\lib\\site-packages\\tensorflow\\python\\util\\tf_should_use.py:193: initialize_all_variables (from tensorflow.python.ops.variables) is deprecated and will be removed after 2017-03-02.\n",
      "Instructions for updating:\n",
      "Use `tf.global_variables_initializer` instead.\n",
      "ERROR:tensorflow:==================================\n",
      "Object was never used (type <class 'tensorflow.python.framework.ops.Operation'>):\n",
      "<tf.Operation 'init' type=NoOp>\n",
      "If you want to mark it as used call its \"mark_used()\" method.\n",
      "It was originally created here:\n",
      "  File \"D:\\MyApp\\Anaconda3\\envs\\tf1\\lib\\runpy.py\", line 193, in _run_module_as_main\n",
      "    \"__main__\", mod_spec)  File \"D:\\MyApp\\Anaconda3\\envs\\tf1\\lib\\runpy.py\", line 85, in _run_code\n",
      "    exec(code, run_globals)  File \"D:\\MyApp\\Anaconda3\\envs\\tf1\\lib\\site-packages\\ipykernel_launcher.py\", line 16, in <module>\n",
      "    app.launch_new_instance()  File \"D:\\MyApp\\Anaconda3\\envs\\tf1\\lib\\site-packages\\traitlets\\config\\application.py\", line 664, in launch_instance\n",
      "    app.start()  File \"D:\\MyApp\\Anaconda3\\envs\\tf1\\lib\\site-packages\\ipykernel\\kernelapp.py\", line 563, in start\n",
      "    self.io_loop.start()  File \"D:\\MyApp\\Anaconda3\\envs\\tf1\\lib\\site-packages\\tornado\\platform\\asyncio.py\", line 148, in start\n",
      "    self.asyncio_loop.run_forever()  File \"D:\\MyApp\\Anaconda3\\envs\\tf1\\lib\\asyncio\\base_events.py\", line 427, in run_forever\n",
      "    self._run_once()  File \"D:\\MyApp\\Anaconda3\\envs\\tf1\\lib\\asyncio\\base_events.py\", line 1440, in _run_once\n",
      "    handle._run()  File \"D:\\MyApp\\Anaconda3\\envs\\tf1\\lib\\asyncio\\events.py\", line 145, in _run\n",
      "    self._callback(*self._args)  File \"D:\\MyApp\\Anaconda3\\envs\\tf1\\lib\\site-packages\\tornado\\ioloop.py\", line 690, in <lambda>\n",
      "    lambda f: self._run_callback(functools.partial(callback, future))  File \"D:\\MyApp\\Anaconda3\\envs\\tf1\\lib\\site-packages\\tornado\\ioloop.py\", line 743, in _run_callback\n",
      "    ret = callback()  File \"D:\\MyApp\\Anaconda3\\envs\\tf1\\lib\\site-packages\\tornado\\gen.py\", line 787, in inner\n",
      "    self.run()  File \"D:\\MyApp\\Anaconda3\\envs\\tf1\\lib\\site-packages\\tornado\\gen.py\", line 748, in run\n",
      "    yielded = self.gen.send(value)  File \"D:\\MyApp\\Anaconda3\\envs\\tf1\\lib\\site-packages\\ipykernel\\kernelbase.py\", line 378, in dispatch_queue\n",
      "    yield self.process_one()  File \"D:\\MyApp\\Anaconda3\\envs\\tf1\\lib\\site-packages\\tornado\\gen.py\", line 225, in wrapper\n",
      "    runner = Runner(result, future, yielded)  File \"D:\\MyApp\\Anaconda3\\envs\\tf1\\lib\\site-packages\\tornado\\gen.py\", line 714, in __init__\n",
      "    self.run()  File \"D:\\MyApp\\Anaconda3\\envs\\tf1\\lib\\site-packages\\tornado\\gen.py\", line 748, in run\n",
      "    yielded = self.gen.send(value)  File \"D:\\MyApp\\Anaconda3\\envs\\tf1\\lib\\site-packages\\ipykernel\\kernelbase.py\", line 365, in process_one\n",
      "    yield gen.maybe_future(dispatch(*args))  File \"D:\\MyApp\\Anaconda3\\envs\\tf1\\lib\\site-packages\\tornado\\gen.py\", line 209, in wrapper\n",
      "    yielded = next(result)  File \"D:\\MyApp\\Anaconda3\\envs\\tf1\\lib\\site-packages\\ipykernel\\kernelbase.py\", line 272, in dispatch_shell\n",
      "    yield gen.maybe_future(handler(stream, idents, msg))  File \"D:\\MyApp\\Anaconda3\\envs\\tf1\\lib\\site-packages\\tornado\\gen.py\", line 209, in wrapper\n",
      "    yielded = next(result)  File \"D:\\MyApp\\Anaconda3\\envs\\tf1\\lib\\site-packages\\ipykernel\\kernelbase.py\", line 542, in execute_request\n",
      "    user_expressions, allow_stdin,  File \"D:\\MyApp\\Anaconda3\\envs\\tf1\\lib\\site-packages\\tornado\\gen.py\", line 209, in wrapper\n",
      "    yielded = next(result)  File \"D:\\MyApp\\Anaconda3\\envs\\tf1\\lib\\site-packages\\ipykernel\\ipkernel.py\", line 294, in do_execute\n",
      "    res = shell.run_cell(code, store_history=store_history, silent=silent)  File \"D:\\MyApp\\Anaconda3\\envs\\tf1\\lib\\site-packages\\ipykernel\\zmqshell.py\", line 536, in run_cell\n",
      "    return super(ZMQInteractiveShell, self).run_cell(*args, **kwargs)  File \"D:\\MyApp\\Anaconda3\\envs\\tf1\\lib\\site-packages\\IPython\\core\\interactiveshell.py\", line 2855, in run_cell\n",
      "    raw_cell, store_history, silent, shell_futures)  File \"D:\\MyApp\\Anaconda3\\envs\\tf1\\lib\\site-packages\\IPython\\core\\interactiveshell.py\", line 2881, in _run_cell\n",
      "    return runner(coro)  File \"D:\\MyApp\\Anaconda3\\envs\\tf1\\lib\\site-packages\\IPython\\core\\async_helpers.py\", line 68, in _pseudo_sync_runner\n",
      "    coro.send(None)  File \"D:\\MyApp\\Anaconda3\\envs\\tf1\\lib\\site-packages\\IPython\\core\\interactiveshell.py\", line 3058, in run_cell_async\n",
      "    interactivity=interactivity, compiler=compiler, result=result)  File \"D:\\MyApp\\Anaconda3\\envs\\tf1\\lib\\site-packages\\IPython\\core\\interactiveshell.py\", line 3249, in run_ast_nodes\n",
      "    if (await self.run_code(code, result,  async_=asy)):  File \"D:\\MyApp\\Anaconda3\\envs\\tf1\\lib\\site-packages\\IPython\\core\\interactiveshell.py\", line 3326, in run_code\n",
      "    exec(code_obj, self.user_global_ns, self.user_ns)  File \"<ipython-input-8-ed7555c29e04>\", line 15, in <module>\n",
      "    tf.initialize_all_variables()  File \"D:\\MyApp\\Anaconda3\\envs\\tf1\\lib\\site-packages\\tensorflow\\python\\util\\tf_should_use.py\", line 193, in wrapped\n",
      "    return _add_should_use_warning(fn(*args, **kwargs))\n",
      "==================================\n",
      "WARNING:tensorflow:From <ipython-input-8-ed7555c29e04>:22: all_variables (from tensorflow.python.ops.variables) is deprecated and will be removed after 2017-03-02.\n",
      "Instructions for updating:\n",
      "Please use tf.global_variables instead.\n",
      "load graph\n",
      "WARNING:tensorflow:From <ipython-input-8-ed7555c29e04>:27: FastGFile.__init__ (from tensorflow.python.platform.gfile) is deprecated and will be removed in a future version.\n",
      "Instructions for updating:\n",
      "Use tf.gfile.GFile.\n",
      "map variables\n",
      "WARNING:tensorflow:From D:\\MyApp\\Anaconda3\\envs\\tf1\\lib\\site-packages\\tensorflow\\python\\util\\decorator_utils.py:145: GraphKeys.VARIABLES (from tensorflow.python.framework.ops) is deprecated and will be removed in a future version.\n",
      "Instructions for updating:\n",
      "Use `tf.GraphKeys.GLOBAL_VARIABLES` instead.\n",
      "load data\n",
      "WARNING:tensorflow:From D:\\MyApp\\Anaconda3\\envs\\tf1\\lib\\site-packages\\tensorflow\\python\\training\\saver.py:1266: checkpoint_exists (from tensorflow.python.training.checkpoint_management) is deprecated and will be removed in a future version.\n",
      "Instructions for updating:\n",
      "Use standard file APIs to check for files with this prefix.\n",
      "INFO:tensorflow:Restoring parameters from checkpoint.data\n",
      "[100 101 102 103 104 105 106 107 108 109]\n",
      "DONE\n"
     ]
    }
   ],
   "source": [
    "#其他实例\n",
    "import tensorflow as tf\n",
    "import os\n",
    "import numpy as np\n",
    "from tensorflow.python.platform import gfile\n",
    "\n",
    "data = np.arange(10, dtype=np.int32)\n",
    "with tf.Session() as sess:\n",
    "    print(\"# build graph and run\")\n",
    "    input1 = tf.placeholder(tf.int32, [10], name=\"input\")\n",
    "    output1 = tf.add(input1, tf.constant(100, dtype=tf.int32),\n",
    "                     name=\"output\")  #  data depends on the input data\n",
    "    saved_result = tf.Variable(data, name=\"saved_result\")\n",
    "    do_save = tf.assign(saved_result, output1)\n",
    "    tf.initialize_all_variables()\n",
    "    os.system(\"rm -rf /tmp/load\")\n",
    "    tf.train.write_graph(sess.graph_def, \"/tmp/load\", \"test.pb\", False)  #proto\n",
    "    # now set the data:\n",
    "    result, _ = sess.run(\n",
    "        [output1, do_save],\n",
    "        {input1: data})  # calculate output1 and assign to 'saved_result'\n",
    "    saver = tf.train.Saver(tf.all_variables())\n",
    "    saver.save(sess, \"checkpoint.data\")\n",
    "\n",
    "with tf.Session() as persisted_sess:\n",
    "    print(\"load graph\")\n",
    "    with gfile.FastGFile(\"/tmp/load/test.pb\", 'rb') as f:\n",
    "        graph_def = tf.GraphDef()\n",
    "        graph_def.ParseFromString(f.read())\n",
    "        persisted_sess.graph.as_default()\n",
    "        tf.import_graph_def(graph_def, name='')\n",
    "    print(\"map variables\")\n",
    "    persisted_result = persisted_sess.graph.get_tensor_by_name(\n",
    "        \"saved_result:0\")\n",
    "    tf.add_to_collection(tf.GraphKeys.VARIABLES, persisted_result)\n",
    "    try:\n",
    "        saver = tf.train.Saver(\n",
    "            tf.all_variables())  # 'Saver' misnomer! Better: Persister!\n",
    "    except:\n",
    "        pass\n",
    "    print(\"load data\")\n",
    "    saver.restore(persisted_sess, \"checkpoint.data\")  # now OK\n",
    "    print(persisted_result.eval())\n",
    "    print(\"DONE\")"
   ]
  }
 ],
 "metadata": {
  "kernelspec": {
   "display_name": "Python 3",
   "language": "python",
   "name": "python3"
  },
  "language_info": {
   "codemirror_mode": {
    "name": "ipython",
    "version": 3
   },
   "file_extension": ".py",
   "mimetype": "text/x-python",
   "name": "python",
   "nbconvert_exporter": "python",
   "pygments_lexer": "ipython3",
   "version": "3.6.7"
  },
  "toc": {
   "base_numbering": 1,
   "nav_menu": {},
   "number_sections": true,
   "sideBar": true,
   "skip_h1_title": false,
   "title_cell": "Table of Contents",
   "title_sidebar": "Contents",
   "toc_cell": false,
   "toc_position": {},
   "toc_section_display": true,
   "toc_window_display": false
  },
  "varInspector": {
   "cols": {
    "lenName": 16,
    "lenType": 16,
    "lenVar": 40
   },
   "kernels_config": {
    "python": {
     "delete_cmd_postfix": "",
     "delete_cmd_prefix": "del ",
     "library": "var_list.py",
     "varRefreshCmd": "print(var_dic_list())"
    },
    "r": {
     "delete_cmd_postfix": ") ",
     "delete_cmd_prefix": "rm(",
     "library": "var_list.r",
     "varRefreshCmd": "cat(var_dic_list()) "
    }
   },
   "types_to_exclude": [
    "module",
    "function",
    "builtin_function_or_method",
    "instance",
    "_Feature"
   ],
   "window_display": false
  }
 },
 "nbformat": 4,
 "nbformat_minor": 2
}
